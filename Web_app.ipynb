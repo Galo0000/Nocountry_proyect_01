{
 "cells": [
  {
   "cell_type": "code",
   "execution_count": 1,
   "metadata": {},
   "outputs": [
    {
     "name": "stdout",
     "output_type": "stream",
     "text": [
      "Overwriting webapp.py\n"
     ]
    }
   ],
   "source": [
    "%%writefile webapp.py\n",
    "import streamlit as st\n",
    "import base64\n",
    "\n",
    "# Función para mostrar el dashboard de Power BI\n",
    "def show_powerbi_dashboard():\n",
    "    # URL del dashboard de Power BI (reemplaza con tu propio URL)\n",
    "    powerbi_url = \"https://datastudio.google.com/embed/reporting/1uYIXuUFbGwMA8Y8R2JFenPNG3fjuCaGG/page/mpeW\"\n",
    "\n",
    "    # Mostrar el dashboard de Power BI utilizando un iframe\n",
    "    st.components.iframe(powerbi_url, height=600)\n",
    "\n",
    "def get_base64(file_path):\n",
    "    with open(file_path, \"rb\") as file:\n",
    "        encoded_string = base64.b64encode(file.read()).decode('utf-8')\n",
    "    return encoded_string\n",
    "\n",
    "def set_background(png_file, opacity):\n",
    "    bin_str = get_base64(png_file)\n",
    "    page_bg_img = f'''\n",
    "    <style>\n",
    "    .stApp {{\n",
    "        background-image: url(\"data:image/png;base64,{bin_str}\");\n",
    "        background-size: cover;\n",
    "        opacity: {opacity};\n",
    "    }}\n",
    "    </style>\n",
    "    '''\n",
    "    st.markdown(page_bg_img, unsafe_allow_html=True)\n",
    "\n",
    "# Definir las rutas de las imágenes de fondo y la opacidad\n",
    "background_image_path = \"hosp.jpg\"\n",
    "background_opacity = 0.8\n",
    "\n",
    "# Establecer el fondo de la página\n",
    "set_background(background_image_path, background_opacity)\n",
    "\n",
    "# Barra lateral con opciones de página y idioma\n",
    "selected_language = st.sidebar.selectbox(\"Seleccionar Idioma\", (\"Español\", \"Inglés\"))\n",
    "\n",
    "# Mostrar el contenido correspondiente al idioma seleccionado\n",
    "if selected_language == \"Español\":\n",
    "    if st.sidebar.button(\"Portada\"):\n",
    "        st.title(\"Bienvenido a la Portada\")\n",
    "        st.write(\"Aquí puedes encontrar información general.\")\n",
    "\n",
    "    if st.sidebar.button(\"Dashboard\"):\n",
    "        st.title(\"Dashboard\")\n",
    "        st.write(\"Aquí puedes ver datos y visualizaciones.\")\n",
    "\n",
    "        # Mostrar el dashboard de Power BI al hacer clic en \"Dashboard\"\n",
    "        show_powerbi_dashboard()\n",
    "\n",
    "    if st.sidebar.button(\"Predictor\"):\n",
    "        st.title(\"Predictor\")\n",
    "        st.write(\"Aquí puedes usar el predictor.\")\n",
    "\n",
    "        # Mostrar cajas de texto para ingresar texto\n",
    "        st.header(\"Ingresa la información requerida:\")\n",
    "        input1 = st.text_input(\"Ingrese texto 1:\")\n",
    "        input2 = st.text_input(\"Ingrese texto 2:\")\n",
    "        input3 = st.text_input(\"Ingrese texto 3:\")\n",
    "\n",
    "        # Agregar botón para procesar la entrada\n",
    "        if st.button(\"Procesar Entrada\"):\n",
    "            # Aquí puedes realizar la lógica de procesamiento basada en la entrada de texto\n",
    "            st.write(f\"Texto 1: {input1}\")\n",
    "            st.write(f\"Texto 2: {input2}\")\n",
    "            st.write(f\"Texto 3: {input3}\")\n",
    "\n",
    "    if st.sidebar.button(\"Contacto\"):\n",
    "        st.title(\"Contacto\")\n",
    "        st.write(\"Aquí puedes encontrar información de contacto.\")\n",
    "\n",
    "elif selected_language == \"Inglés\":\n",
    "    if st.sidebar.button(\"Home\"):\n",
    "        st.title(\"Welcome to the Home Page\")\n",
    "        st.write(\"Here you can find general information.\")\n",
    "\n",
    "    if st.sidebar.button(\"Dashboard\"):\n",
    "        st.title(\"Dashboard\")\n",
    "        st.write(\"Here you can view data and visualizations.\")\n",
    "\n",
    "        # Mostrar el dashboard de Power BI al hacer clic en \"Dashboard\"\n",
    "        show_powerbi_dashboard()\n",
    "\n",
    "    if st.sidebar.button(\"Predictor\"):\n",
    "        st.title(\"Predictor\")\n",
    "        st.write(\"Here you can use the predictor.\")\n",
    "\n",
    "        # Mostrar cajas de texto para ingresar texto\n",
    "        st.header(\"Enter Required Information:\")\n",
    "        input1 = st.text_input(\"Enter text 1:\")\n",
    "        input2 = st.text_input(\"Enter text 2:\")\n",
    "        input3 = st.text_input(\"Enter text 3:\")\n",
    "\n",
    "        # Agregar botón para procesar la entrada\n",
    "        if st.button(\"Process Input\"):\n",
    "            # Aquí puedes realizar la lógica de procesamiento basada en la entrada de texto\n",
    "            st.write(f\"Text 1: {input1}\")\n",
    "            st.write(f\"Text 2: {input2}\")\n",
    "            st.write(f\"Text 3: {input3}\")\n",
    "\n",
    "    if st.sidebar.button(\"Contact\"):\n",
    "        st.title(\"Contact\")\n",
    "        st.write(\"Here you can find contact information.\")\n",
    "\n"
   ]
  },
  {
   "cell_type": "code",
   "execution_count": 2,
   "metadata": {},
   "outputs": [
    {
     "name": "stdout",
     "output_type": "stream",
     "text": [
      "^C\n"
     ]
    }
   ],
   "source": [
    "!streamlit run webapp.py"
   ]
  },
  {
   "cell_type": "code",
   "execution_count": null,
   "metadata": {},
   "outputs": [],
   "source": []
  }
 ],
 "metadata": {
  "kernelspec": {
   "display_name": "streamlit_31014",
   "language": "python",
   "name": "python3"
  },
  "language_info": {
   "codemirror_mode": {
    "name": "ipython",
    "version": 3
   },
   "file_extension": ".py",
   "mimetype": "text/x-python",
   "name": "python",
   "nbconvert_exporter": "python",
   "pygments_lexer": "ipython3",
   "version": "3.10.14"
  }
 },
 "nbformat": 4,
 "nbformat_minor": 2
}
